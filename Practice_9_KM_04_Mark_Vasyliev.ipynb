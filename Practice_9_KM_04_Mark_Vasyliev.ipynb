{
  "nbformat": 4,
  "nbformat_minor": 0,
  "metadata": {
    "colab": {
      "name": "Practice_7_KM-01_.ipynb",
      "provenance": [],
      "collapsed_sections": []
    },
    "kernelspec": {
      "name": "python3",
      "display_name": "Python 3.7.9 64-bit",
      "metadata": {
        "interpreter": {
          "hash": "04635d289a519a1410467dd0afb0db42f9184808881ca68b2eb5a687a20a5a94"
        }
      }
    }
  },
  "cells": [
    {
      "cell_type": "markdown",
      "metadata": {
        "id": "FMqboNwO4rVs"
      },
      "source": [
        "# **Курс \"Програмування на мові Python\"**\n",
        "\n",
        "##### Викладачі:\n",
        "##### Борисенко Павло Борисович\n",
        "##### Щьоголєв Максим Олегович\n"
      ]
    },
    {
      "cell_type": "markdown",
      "metadata": {
        "id": "A2T6MigL5Z06"
      },
      "source": [
        "## **Практичне зайняття №9**\n",
        "\n",
        "### Тема: \"Лямбда-функції. Функції вищих порядків\""
      ]
    },
    {
      "cell_type": "markdown",
      "metadata": {
        "id": "cfCdgK2zXm7e"
      },
      "source": [
        "### **Завдання 1 (1 бал)**\n",
        "\n",
        "Керівництво будівельної компанії вирішило підняти заробітні плати всім своїм працівникам на 30%. В залежності від спеціалізації та стажу працівники мають різну заробітну плату. Для підготовки звіту необхідно розрахувати нову заробітну плату для працівників компанії, а також суму індексації.\n",
        "\n",
        "Написати програму, яка буде генерувати таблицю для цього звіту. Початкова заробітна плата працівників подана у списку salary_list (у тисячах гривень). \n",
        "\n",
        "1. Для підрахунку невідомих значень повинні використовуватись вбудовані функції вищих порядків.\n",
        "\n",
        "2. Зарплата після індексації та сума індексації для працівників різних категорій повинні зберігатись у двох окремих списках. Порядок значень у кожному з нових списків повинен відповідати порядку значень у списку salary_list.\n",
        "\n",
        "3. Кожне підраховане числове значення має бути округлене до сотих.\n",
        "\n",
        "4. Дані повинні виводитись у вигляді:\n",
        "\n",
        "**Salary table:**\n",
        "\n",
        "**7.3 9.49 2.19**\n",
        "\n",
        "**8.5 11.05 2.55**\n",
        "\n",
        "**...**\n",
        "\n",
        "salary_list = [[7.3, 8.5, 11, 12.7, 15.2, 21.12, 27.35]]"
      ]
    },
    {
      "cell_type": "code",
      "metadata": {
        "id": "ifNX2M7LXm7f"
      },
      "source": [
        "salary_list = [7.3, 8.5, 11, 12.7, 15.2, 21.12, 27.35]\n",
        "new_salary = map(lambda x: round(1.3*x, 2), salary_list)\n",
        "index_sum = map(lambda x: round(0.3*x, 2), salary_list)\n",
        "print(\"Salary table:\")\n",
        "for a, b, c in zip(salary_list, new_salary, index_sum):\n",
        "    print(a, b, c)"
      ],
      "execution_count": 1,
      "outputs": [
        {
          "output_type": "stream",
          "name": "stdout",
          "text": [
            "Salary table:\n7.3 9.49 2.19\n8.5 11.05 2.55\n11 14.3 3.3\n12.7 16.51 3.81\n15.2 19.76 4.56\n21.12 27.46 6.34\n27.35 35.55 8.21\n"
          ]
        }
      ]
    },
    {
      "source": [
        "### **Завдання 2 (2 бали)**\n",
        "\n",
        "Зазвичай рік має 365 днів. Однак у високосні роки додається ще один день - 29 лютого. Правила визначення високосного року такі:\n",
        "\n",
        "- Будь-який рік, що ділиться на 400 - високосний.\n",
        "\n",
        "- З тих років, що залишились, будь-який рік, що ділиться на 100 - **не** високосний.\n",
        "\n",
        "- З тих років, що залишились, будь-який рік, що ділиться на 4 - високосний.\n",
        "\n",
        "- Усі інші роки, що залишились - **не** високосні.\n",
        "\n",
        "1) Створіть функцію, в якій за допомогою вбудованих функцій вищих порядків будуть визначатися високосні роки серед перелічених років у списку years. Створена функція має повертати список високосних років.\n",
        "\n",
        "2) Створіть функцію вищих порядків, яка прийматиме на вхід попередню функцію та визначатиме кількість днів у місяці. Також функція повинна приймати на вхід ще 2 параметри: ціле число від 1 до 12 (місяць) та рік, як ціле чотирицифрове число. Ці значення корисувач має вводити з клавіатури. Перевірку введених даних слід виконувати поза межами функцій."
      ],
      "cell_type": "markdown",
      "metadata": {}
    },
    {
      "cell_type": "code",
      "execution_count": 16,
      "metadata": {},
      "outputs": [
        {
          "output_type": "stream",
          "name": "stdout",
          "text": [
            "The length of the 2nd month in 1900 is 28 days.\n"
          ]
        }
      ],
      "source": [
        "import numpy as np\n",
        "years = np.arange(1900, 2020+1, 1)\n",
        "\n",
        "def get_leap_years():\n",
        "    def leap_filter(year):\n",
        "        if year % 400 == 0:\n",
        "            return True\n",
        "        if year % 100 == 0:\n",
        "            return False\n",
        "        if year % 4 == 0:\n",
        "            return True\n",
        "        return False\n",
        "    return list(filter(leap_filter, years))\n",
        "\n",
        "def get_month_length(leap_func, month, year):\n",
        "    if month == 2:\n",
        "        return 29 if year in leap_func() else 28\n",
        "    if month in (4, 6, 9, 11):\n",
        "        return 30\n",
        "    return 31\n",
        "\n",
        "class RangeError(Exception):\n",
        "    pass\n",
        "\n",
        "try:\n",
        "    year = int(input(\"Please, enter a year from 1900 to 2020: \"))\n",
        "    if year < 1900 or year > 2020:\n",
        "        raise RangeError(\"Year must be from 1900 to 2020!\")\n",
        "    month = int(input(\"Now enter month number (from 1 to 12): \"))\n",
        "    if month < 1 or month > 12:\n",
        "        raise RangeError(\"Month number must be from 1 to 12!\")\n",
        "except ValueError:\n",
        "    print(\"The value must be an integer!\")\n",
        "except RangeError as re:\n",
        "    print(re)\n",
        "else:\n",
        "    endings = {1: \"st\", 2: \"nd\", 3: \"rd\"}\n",
        "    print(f\"The length of the {month}{endings.setdefault(month, 'th')} month in \"\n",
        "          f\"{year} is {get_month_length(get_leap_years, month, year)} days.\")"
      ]
    },
    {
      "cell_type": "code",
      "execution_count": null,
      "metadata": {},
      "outputs": [],
      "source": []
    }
  ]
}