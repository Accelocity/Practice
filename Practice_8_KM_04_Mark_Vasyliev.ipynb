{
  "nbformat": 4,
  "nbformat_minor": 0,
  "metadata": {
    "colab": {
      "name": "Practice_7_KM-01_.ipynb",
      "provenance": [],
      "collapsed_sections": []
    },
    "kernelspec": {
      "name": "python3",
      "display_name": "Python 3.7.9 64-bit",
      "metadata": {
        "interpreter": {
          "hash": "04635d289a519a1410467dd0afb0db42f9184808881ca68b2eb5a687a20a5a94"
        }
      }
    }
  },
  "cells": [
    {
      "cell_type": "markdown",
      "metadata": {
        "id": "FMqboNwO4rVs"
      },
      "source": [
        "# **Курс \"Програмування на мові Python\"**\n",
        "\n",
        "##### Викладачі:\n",
        "##### Борисенко Павло Борисович\n",
        "##### Щьоголєв Максим Олегович\n"
      ]
    },
    {
      "cell_type": "markdown",
      "metadata": {
        "id": "A2T6MigL5Z06"
      },
      "source": [
        "## **Практичне зайняття №8**\n",
        "\n",
        "### Тема: \"Робота з функціями. Локальні та глобальні змінні\""
      ]
    },
    {
      "cell_type": "markdown",
      "metadata": {
        "id": "cfCdgK2zXm7e"
      },
      "source": [
        "### **Завдання 1 (3 бали)**\n",
        "\n",
        "**Підрахувати визначник матриці, використовуючи правило перестановок.**\n",
        "\n",
        "Функція random_matrix() призначена для створення квадратної матриці випадкових чисел. Її змінювати непотрібно.\n",
        "\n",
        "Приклад використання методу permutations() для створення списку перестановок також подається у комірці з кодом.\n",
        "\n",
        "1) Створити 3 функції: функцію створення списку перестановок, функцію підрахунку добутків та функцію підрахунку загальної суми.\n",
        "\n",
        "2) Кожна функція має супроводжуватись рядком документації, що буде коротко описувати її призначення.\n",
        "\n",
        "3) Розмірність квадратної матриці має вводитись користувачем з клавіатури. Підрахунки виконувати лише в тому разі, якщо користувач введе ціле додатне число.\n",
        "\n",
        "4) Загальний результат повинен підраховуватись за допомогою композиції функцій.\n",
        "\n",
        "За бажання можна перевірити правильність роботи програми за допомогою функції np.linalg.det(a)."
      ]
    },
    {
      "cell_type": "code",
      "metadata": {
        "id": "ifNX2M7LXm7f"
      },
      "source": [
        "import numpy as np\n",
        "import itertools\n",
        "\n",
        "def random_matrix(dim):\n",
        "    \"\"\"\n",
        "    The function generates dim x dim array of integers\n",
        "    between 0 and 10.\n",
        "    \"\"\"\n",
        "    matrix = np.random.randint(10, size = (dim, dim))\n",
        "    return matrix\n",
        "\n",
        "def perm_list(itrbl):\n",
        "    \"\"\"\n",
        "    The function returns successive max length\n",
        "    permutations of elements in itrbl.\n",
        "    \"\"\"\n",
        "    return list(itertools.permutations(itrbl))\n",
        "\n",
        "def calc_product(matrix, perm):\n",
        "    \"\"\"\n",
        "    The function calculates product of n matrix's\n",
        "    elements in rows from 0 to n-1 and columns determined\n",
        "    by perm, which is a permutation of indices set.\n",
        "    \"\"\"\n",
        "    inversions = 0\n",
        "    n = len(perm)\n",
        "\n",
        "    for p in range(n):\n",
        "        for q in range(p+1, n):\n",
        "            if perm[p] > perm[q]:\n",
        "                inversions += 1\n",
        "\n",
        "    product = (-1)**inversions\n",
        "    for i, j in zip(range(n), perm):\n",
        "        product *= matrix[i][j]\n",
        "    return product\n",
        "\n",
        "def calc_determinant(matrix):\n",
        "    \"\"\"\n",
        "    The function prints matrix and calculates its\n",
        "    determinant by the definition based on permutations,\n",
        "    then prints it too.\n",
        "    \"\"\"\n",
        "    print(\"Matrix:\")\n",
        "    print('\\n'.join([' '.join(map(str, row)) for row in matrix]))\n",
        "    \n",
        "    n = len(matrix)\n",
        "    perm_all = perm_list(range(n))\n",
        "    det = 0\n",
        "    for perm in perm_all:\n",
        "        det += calc_product(matrix, perm)\n",
        "    print(\"\\nDeterminant:\", det)\n",
        "\n",
        "try:\n",
        "    m = int(input(\"Enter the dimension of a matrix: \"))\n",
        "    if m < 1:\n",
        "        raise ValueError\n",
        "    calc_determinant(random_matrix(m))\n",
        "except ValueError:\n",
        "    print(\"The entered value is not a positive integer!\")"
      ],
      "execution_count": 1,
      "outputs": [
        {
          "output_type": "stream",
          "name": "stdout",
          "text": [
            "Matrix:\n2 5 9 5 9\n3 3 0 7 9\n6 1 7 2 5\n9 0 0 3 0\n9 5 8 8 0\n\nDeterminant: -5715\n"
          ]
        }
      ]
    },
    {
      "cell_type": "code",
      "execution_count": null,
      "metadata": {},
      "outputs": [],
      "source": []
    }
  ]
}