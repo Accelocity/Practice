{
  "nbformat": 4,
  "nbformat_minor": 0,
  "metadata": {
    "colab": {
      "name": "Practice_14_KM_01.ipynb",
      "provenance": [],
      "collapsed_sections": []
    },
    "kernelspec": {
      "name": "python3",
      "display_name": "Python 3.7.9 64-bit",
      "metadata": {
        "interpreter": {
          "hash": "04635d289a519a1410467dd0afb0db42f9184808881ca68b2eb5a687a20a5a94"
        }
      }
    }
  },
  "cells": [
    {
      "cell_type": "markdown",
      "metadata": {
        "id": "FMqboNwO4rVs"
      },
      "source": [
        "# **Курс \"Програмування на мові Python\"**\n",
        "\n",
        "##### Викладачі:\n",
        "##### Борисенко Павло Борисович\n",
        "##### Щьоголєв Максим Олегович\n"
      ]
    },
    {
      "cell_type": "markdown",
      "metadata": {
        "id": "A2T6MigL5Z06"
      },
      "source": [
        "## **Практичне зайняття №14**\n",
        "\n",
        "### Тема: \"Робота з файлами\""
      ]
    },
    {
      "cell_type": "markdown",
      "metadata": {
        "id": "cfCdgK2zXm7e"
      },
      "source": [
        "### **Завдання 1 (1,5 бали)**\n",
        "\n",
        "У 1939 році друком вийшов роман американського письменика Ернеста Вінсента Райта \"Ґедсбі\". Особливу увагу публіки він здобув через те, що письменник жодного разу не використав у романі літеру \"e\" (роман складається з більше ніж 50,000 слів), яка є найбільш вживаною літерою в англійській мові.\n",
        "\n",
        "Порахуйте кількість входжень кожної літери у текст роману. Виведіть список літер англійського алфавіту, а також інформацію про те, скільки відсотків від усіх літер тексту складає кожна літера алфавіту.\n",
        "\n",
        "Зауваження:\n",
        "\n",
        "1. Програма має ігнорувати будь-які символи, окрім літер.\n",
        "\n",
        "2. Переведіть усі літери у верхній або у нижній регістр.\n",
        "\n",
        "3. Під час виведення відсортуйте літери у порядку зменшення їхнього відсотка. Літера \"e\" має стояти на останньому місці у цьому списку.\n",
        "\n",
        "4. Виведіть перші 5 та останні 5 літер відсортованого списку разом з відсотковими значеннями, що їм відповідають."
      ]
    },
    {
      "cell_type": "code",
      "metadata": {
        "tags": [],
        "id": "u4-fHJJ6U462"
      },
      "source": [
        "from string import ascii_lowercase\n",
        "\n",
        "SEPARATOR = (26*2 - 1)*'—'\n",
        "\n",
        "with open(\"gadsby.txt\") as f:\n",
        "    text = f.read().lower()\n",
        "text = list(filter(lambda x: x in ascii_lowercase, text))\n",
        "total = len(text)\n",
        "d = {}\n",
        "for letter in ascii_lowercase:\n",
        "    letter_count = text.count(letter)\n",
        "    d[letter] = letter_count / total * 100\n",
        "stat_list = sorted( ((v, k) for k, v in d.items()), reverse=True)\n",
        "print(*[k for v, k in stat_list])\n",
        "print(SEPARATOR)\n",
        "first_five = [\"{}: {:6.3f}%\".format(k, v) for v, k in stat_list[:5]]\n",
        "last_five  = [\"{}: {:6.3f}%\".format(k, v) for v, k in stat_list[21:]]\n",
        "print(*first_five, sep=\"  \")\n",
        "print(*last_five , sep=\"  \")"
      ],
      "execution_count": 21,
      "outputs": [
        {
          "output_type": "stream",
          "name": "stdout",
          "text": [
            "a o i n t s l h r u d g y w c f b m p k v j z x q e\n———————————————————————————————————————————————————\na: 10.952%  o: 10.419%  i:  8.825%  n:  8.597%  t:  8.494%\nj:  0.230%  z:  0.107%  x:  0.079%  q:  0.051%  e:  0.002%\n"
          ]
        }
      ]
    },
    {
      "cell_type": "markdown",
      "metadata": {
        "id": "A34oz70eU463"
      },
      "source": [
        "### **Завдання 2 (1,5 бали)**\n",
        "\n",
        "Створіть CSV-файл, що буде містити від 5 до 10 пісень (творів) вашого улюбленого музиканта. Назва файлу - ім'я музиканта (композитора) або назва гурту.\n",
        "\n",
        "1. Обов'язково додайте до файлу рядок з назвами двох колонок (Song, Year) або (Composition, Year).\n",
        "\n",
        "2. Після запису файлу роздрукуйте назву файлу та усі наявні у файлі рядки (включно із заголовками).\n",
        "\n",
        "3. Для запису та зчитування рядків скористайтесь функціями csv.DictWriter() та csv.DictReader()."
      ]
    },
    {
      "cell_type": "code",
      "metadata": {
        "id": "MEJIrG1GU463"
      },
      "source": [
        "import csv\n",
        "with open('grazhdanskaya_oborona.csv', 'w', newline='') as csvfile:\n",
        "    fieldnames = ['Song', 'Year']\n",
        "    writer = csv.DictWriter(csvfile, fieldnames=fieldnames)\n",
        "    writer.writeheader()\n",
        "    writer.writerow({'Song': 'Долгая счастливая жизнь', 'Year' : 2004})\n",
        "    writer.writerow({'Song': 'Песня о большом прожорище', 'Year' : 2004})\n",
        "    writer.writerow({'Song': 'Ангел устал', 'Year' : 2004})\n",
        "    writer.writerow({'Song': 'Вселенская большая любовь', 'Year' : 2004})\n",
        "    writer.writerow({'Song': 'Город детства', 'Year' : 2002})\n",
        "    writer.writerow({'Song': 'Русское поле экспериментов', 'Year' : 1989})\n",
        "    writer.writerow({'Song': 'Танец для мёртвых', 'Year' : 2007})\n",
        "    writer.writerow({'Song': 'Про червячков', 'Year' : 2002})\n",
        "    writer.writerow({'Song': 'Продолжая продолжать', 'Year' : 1989})\n",
        "    writer.writerow({'Song': 'Со скоростью мира', 'Year' : 2005})\n",
        "with open('grazhdanskaya_oborona.csv', newline='') as csvfile:\n",
        "    reader = csv.DictReader(csvfile)\n",
        "    for heading in reader.fieldnames:\n",
        "        print(heading, end=' ')\n",
        "    print('\\n------------------------------')\n",
        "    for row in reader:\n",
        "        print(row['Song'], row['Year'])"
      ],
      "execution_count": 26,
      "outputs": [
        {
          "output_type": "stream",
          "name": "stdout",
          "text": [
            "Song Year \n------------------------------\nДолгая счастливая жизнь 2004\nПесня о большом прожорище 2004\nАнгел устал 2004\nВселенская большая любовь 2004\nГород детства 2002\nРусское поле экспериментов 1989\nТанец для мёртвых 2007\nПро червячков 2002\nПродолжая продолжать 1989\nСо скоростью мира 2005\n"
          ]
        }
      ]
    },
    {
      "cell_type": "markdown",
      "metadata": {
        "id": "Jb-eSBsWU464"
      },
      "source": [
        "### **Завдання 3 (бонусне, 1 бал)**\n",
        "\n",
        "COCO Dataset - набір фотографій та анотацій до них. Його дуже часто використовують для тренування класифікаторів, призначених для розпізнавання об'єктів та визначення ключових точок на зображеннях.\n",
        "\n",
        "Завантажте файли з описом фотографій COCO Dataset за посиланням: http://images.cocodataset.org/annotations/image_info_test2017.zip\n",
        "\n",
        "1. Відкрийте файл image_info_test-dev2017.json. Інформація про фотографії з бази COCO міститься у полі \"images\". Інформація про категорії, на які розділені всі фотографії, міститься у полі \"categories\".\n",
        "\n",
        "2. Визначте кількість фотографій, інформацію про які можна знайти у цьому файлі (кількість елементів, що відповідають ключу \"images\").\n",
        "\n",
        "3. Визначте кількість наявних категорій (кількість елементів, що відповідають ключу \"categories\").\n",
        "\n",
        "4. Виведіть посилання на фотографію 000000000001.jpg (\"coco_url\"), висоту цієї фотографії (\"height\"), ширину (\"width\") та її ідентифікатор (\"id\").\n",
        "\n",
        "5. Опис структури JSON-файлу для набору фотографій COCO можна знайти за посиланням: https://cocodataset.org/#format-data\n",
        "\n",
        "6. Щоб перевірити правильність результатів, у VS Code встановіть розширення JSON та відкрийте файл image_info_test-dev2017.json. Розширення автоматично визначає кількість елементів у кожному полі."
      ]
    },
    {
      "cell_type": "code",
      "metadata": {
        "id": "74C6WKB_U464",
        "tags": []
      },
      "source": [
        "import json\n",
        "\n",
        "with open('image_info_test-dev2017.json') as f:\n",
        "    data = json.load(f)\n",
        "print('Number of images:', len(data['images']))\n",
        "print('Number of categories:', len(data['categories']))\n",
        "print()\n",
        "i = [image['file_name'] for image in data['images']].index('000000000001.jpg')\n",
        "image_1 = data['images'][i]\n",
        "print(image_1['file_name'])\n",
        "print('  URL:', image_1['coco_url'])\n",
        "print('  Height:', image_1['height'])\n",
        "print('  Width:', image_1['width'])\n",
        "print('  ID:', image_1['id'])"
      ],
      "execution_count": 32,
      "outputs": [
        {
          "output_type": "stream",
          "name": "stdout",
          "text": [
            "Number of images: 20288\nNumber of categories: 80\n\n000000000001.jpg\n  URL: http://images.cocodataset.org/test2017/000000000001.jpg\n  Height: 480\n  Width: 640\n  ID: 1\n"
          ]
        }
      ]
    },
    {
      "cell_type": "code",
      "execution_count": null,
      "metadata": {},
      "outputs": [],
      "source": []
    }
  ]
}