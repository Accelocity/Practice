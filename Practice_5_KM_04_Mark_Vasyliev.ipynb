{
  "nbformat": 4,
  "nbformat_minor": 0,
  "metadata": {
    "colab": {
      "name": "Practice_5_KM_04_.ipynb",
      "provenance": [],
      "collapsed_sections": []
    },
    "kernelspec": {
      "name": "Python 3.7.9 64-bit",
      "display_name": "Python 3.7.9 64-bit",
      "metadata": {
        "interpreter": {
          "hash": "04635d289a519a1410467dd0afb0db42f9184808881ca68b2eb5a687a20a5a94"
        }
      }
    }
  },
  "cells": [
    {
      "cell_type": "markdown",
      "metadata": {
        "id": "FMqboNwO4rVs"
      },
      "source": [
        "# **Курс \"Програмування на мові Python\"**\n",
        "\n",
        "##### Викладачі:\n",
        "##### Борисенко Павло Борисович\n",
        "##### Щьоголєв Максим Олегович\n"
      ]
    },
    {
      "cell_type": "markdown",
      "metadata": {
        "id": "A2T6MigL5Z06"
      },
      "source": [
        "## **Практичне зайняття №5**\n",
        "### Тема: \"Робота з кортежами, множинами та словниками\""
      ]
    },
    {
      "cell_type": "markdown",
      "metadata": {
        "id": "4AV5CN7N4xja"
      },
      "source": [
        "### **Завдання 1 (1,5 бали)**\n",
        "\n",
        "Напишіть програму, яка визначала б, чи можна з літер однієї фрази скласти іншу фразу. Наприклад:\n",
        "\n",
        "\"William Shakespeare\" -> \"A small spark\"\n",
        "\n",
        "Перша фраза містить 11 унікальних літер (хоча деякі повторюються): a, e, h, i, k, l, m, p, r, s та w. Друга фраза містить 7 унікальних літер: a, k, l, m, p, r та s. Кожна з літер другої фрази зустрічається принаймні один раз у першій фразі.\n",
        "\n",
        "1. Обидві фрази повинні вводитись користувачем з клавіатури.\n",
        "\n",
        "2. Скористайтесь властивістю множин у мові програмування Python для виділення колекції унікальних літер.\n",
        "\n",
        "3. У множину не повинні потрапити пробіли, розділові знаки та інші символи, що не є літерами (скористайтесь методом **isalpha()**). Також усі літери мають бути переведені в нижній або верхній регістр (скористайтесь методами **lower()** або **upper()**).\n",
        "\n",
        "4. Зверніть увагу на те, що літери як в першій, так і вдругій фразі можуть повторюватись. Однак множина унікальних літер другої фрази повинна бути підмножиною множини унікальних літер першої фрази.\n",
        "\n",
        "5. У складі змістовного повідомлення програма повинна виводити множину літер першої фрази, множину літер другої фрази, а також змістовне повідомлення про те, чи можна скласти з літер першої фрази другу фразу."
      ]
    },
    {
      "cell_type": "code",
      "metadata": {
        "id": "9Mesp1jV4xjb"
      },
      "source": [
        "s1 = input(\"Enter the first phrase:\\n\")\n",
        "s2 = input(\"Enter the second phrase:\\n\")\n",
        "\n",
        "set1 = set([i for i in s1.upper() if i.isalpha()])\n",
        "set2 = set([i for i in s2.upper() if i.isalpha()])\n",
        "\n",
        "print(\"Unique letters in the 1st phrase:\")\n",
        "print(', '.join(sorted(list(set1))))\n",
        "print(\"Unique letters in the 2nd phrase:\")\n",
        "print(', '.join(sorted(list(set2))))\n",
        "\n",
        "if set1.issuperset(set2):\n",
        "    print(\"The 2nd phrase can be made.\")\n",
        "else:\n",
        "    print(\"The 2nd phrase can't be made.\")\n"
      ],
      "execution_count": 21,
      "outputs": [
        {
          "output_type": "stream",
          "name": "stdout",
          "text": [
            "Unique letters in the 1st phrase:\nA, E, H, I, K, L, M, P, R, S, W\nUnique letters in the 2nd phrase:\nA, K, L, M, P, R, S\nThe 2nd phrase can be made.\n"
          ]
        }
      ]
    },
    {
      "cell_type": "markdown",
      "metadata": {
        "id": "y7pQFLvSCkym"
      },
      "source": [
        "### **Завдання 2 (1,5 бали)**\n",
        "\n",
        "У Канаді поштові індекси мають специфічну форму. Вони складаються з трьох символів. Перший символ вказує на провінцію. Другий символ вказує на те, у міській чи у сільській місцевості знаходиться адресат. Якщо у сільській місцевості - це 0. Якщо у міській - будь-яка інша цифра. Провінція позначається великою латинською літерою. Повний перелік провінцій на літер, що їм відповідають, подано у таблиці.\n",
        "\n",
        "Провінція | Перший символ поштового індекса\n",
        "--- | ---\n",
        "Newfoundland | A\n",
        "Nova Scotia | B\n",
        "Prince Edward Island | C\n",
        "New Brunswick | E\n",
        "Quebec | G, H and J\n",
        "Ontario | K, L, M, N and P\n",
        "Manitoba | R\n",
        "Saskatchewan | S\n",
        "Alberta | T\n",
        "British Columbia | V\n",
        "Nunavut | X\n",
        "Northwest Territories | X\n",
        "Yukon | Y\n",
        "\n",
        "Напишіть програму, яка зчитує поштовий індекс, введений користувачем, та виводить у складі змістовного повідомлення провінцію адресата та інформацію про те, у міській чи у сільській місцевості він знаходиться. Наприклад, якщо користувач вводить T2N, програма повинна визначити, що адресат знаходиться у міській місцевості провінції Альберта. Якщо він вводить X0A, адресат знаходиться у сільській місцевості провінції Нанавут або Північних Територій (зверніть увагу на те, що літера X повторюється для двох провінцій). Третя літера для нас неважлива. Зауважте, що літери D, F, I, O, Q, U, W, та Z не позначають жодної з провінцій Канади.\n",
        "\n",
        "1. Скористайтесь словником для збереження усіх провінцій та літер, що їм відповідають.\n",
        "\n",
        "2. Користувач повинен ввести рівно 3 символи. Перший і останній символи мають бути літерами, другий - цифрою. Для перевірки скористайтесь методами **isalpha()** та **isdigit()**. Якщо користувач введе не 3 символи, а більше чи менше, або ж послідовність літер та цифр не буде співпадати з шаблоном, програма має вивести повідомлення про помилку.\n",
        "\n",
        "3. Програма повинна приймати літери як верхнього, так і нижнього регістрів. Однак виводити - лише у верхньому регістрі (скористайтесь методами **lower()** або **upper()**)."
      ]
    },
    {
      "cell_type": "code",
      "metadata": {
        "id": "EVY800vg4xjg"
      },
      "source": [
        "s = input(\"Enter the postal code: \").upper()\n",
        "\n",
        "if (\n",
        "        len(s) != 3\n",
        "        or not s[0].isalpha() or s[0] in \"DFIOQUWZ\"\n",
        "        or not s[1].isdigit() or not s[2].isalpha()\n",
        "    ):\n",
        "    print(\"Incorrect input!\")\n",
        "else:\n",
        "    dic = {\n",
        "        'A': ('Newfoundland', ),\n",
        "        'B': ('Nova Scotia', ),\n",
        "        'C': ('Prince Edward Island', ),\n",
        "        'E': ('New Brunswick', ),\n",
        "        'G': ('Quebec', ),\n",
        "        'H': ('Quebec', ),\n",
        "        'J': ('Quebec', ),\n",
        "        'K': ('Ontario', ),\n",
        "        'L': ('Ontario', ),\n",
        "        'M': ('Ontario', ),\n",
        "        'N': ('Ontario', ),\n",
        "        'P': ('Ontario', ),\n",
        "        'R': ('Manitoba', ),\n",
        "        'S': ('Saskatchewan', ),\n",
        "        'T': ('Alberta', ),\n",
        "        'V': ('British Columbia', ),\n",
        "        'X': ('Nunavut', 'Northwest Territories'),\n",
        "        'Y': ('Yukon', )\n",
        "    }\n",
        "    print('POSTAL CODE:', s)\n",
        "    print('PROVINCE:', ' OR '.join(dic[s[0]]).upper())\n",
        "    print('AREA:', 'URBAN' if int(s[1]) else 'RURAL')\n"
      ],
      "execution_count": 18,
      "outputs": [
        {
          "output_type": "stream",
          "name": "stdout",
          "text": [
            "POSTAL CODE: X1A\nPROVINCE: NUNAVUT OR NORTHWEST TERRITORIES\nAREA: URBAN\n"
          ]
        }
      ]
    },
    {
      "cell_type": "code",
      "execution_count": null,
      "metadata": {},
      "outputs": [],
      "source": []
    }
  ]
}